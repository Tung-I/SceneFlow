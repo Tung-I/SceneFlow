{
 "cells": [
  {
   "cell_type": "code",
   "execution_count": 2,
   "metadata": {},
   "outputs": [],
   "source": [
    "import torch\n",
    "import csv\n",
    "import logging\n",
    "import numpy as np\n",
    "from pathlib import Path\n",
    "from tqdm import tqdm"
   ]
  },
  {
   "cell_type": "code",
   "execution_count": null,
   "metadata": {},
   "outputs": [],
   "source": []
  },
  {
   "cell_type": "code",
   "execution_count": null,
   "metadata": {},
   "outputs": [],
   "source": []
  },
  {
   "cell_type": "code",
   "execution_count": 3,
   "metadata": {},
   "outputs": [],
   "source": [
    "xyz = torch.rand((4, 3, 10))\n",
    "xyz_t = xyz.permute(0, 2, 1).contiguous()\n",
    "fps_idx = pointutils.furthest_point_sample(xyz_t, npoint)  # [B, N]\n",
    "new_xyz = pointutils.gather_operation(xyz, fps_idx)  # [B, C, N]\n",
    "\n",
    "points = torch.rand((4, 16, 10))\n"
   ]
  },
  {
   "cell_type": "code",
   "execution_count": 7,
   "metadata": {},
   "outputs": [
    {
     "ename": "RuntimeError",
     "evalue": "CUDA error: an illegal memory access was encountered",
     "output_type": "error",
     "traceback": [
      "\u001b[0;31m---------------------------------------------------------------------------\u001b[0m",
      "\u001b[0;31mRuntimeError\u001b[0m                              Traceback (most recent call last)",
      "\u001b[0;32m<ipython-input-7-22bb5a0d6f43>\u001b[0m in \u001b[0;36m<module>\u001b[0;34m\u001b[0m\n\u001b[0;32m----> 1\u001b[0;31m \u001b[0ma\u001b[0m \u001b[0;34m=\u001b[0m \u001b[0mtorch\u001b[0m\u001b[0;34m.\u001b[0m\u001b[0mtensor\u001b[0m\u001b[0;34m(\u001b[0m\u001b[0;34m[\u001b[0m\u001b[0;36m1\u001b[0m\u001b[0;34m,\u001b[0m \u001b[0;36m1\u001b[0m\u001b[0;34m,\u001b[0m \u001b[0;36m1\u001b[0m\u001b[0;34m]\u001b[0m\u001b[0;34m)\u001b[0m\u001b[0;34m.\u001b[0m\u001b[0mcuda\u001b[0m\u001b[0;34m(\u001b[0m\u001b[0;34m)\u001b[0m\u001b[0;34m\u001b[0m\u001b[0;34m\u001b[0m\u001b[0m\n\u001b[0m",
      "\u001b[0;31mRuntimeError\u001b[0m: CUDA error: an illegal memory access was encountered"
     ]
    }
   ],
   "source": [
    "a = torch.tensor([1, 1, 1]).cuda()"
   ]
  },
  {
   "cell_type": "code",
   "execution_count": 4,
   "metadata": {},
   "outputs": [
    {
     "ename": "RuntimeError",
     "evalue": "CUDA error: an illegal memory access was encountered",
     "output_type": "error",
     "traceback": [
      "\u001b[0;31m---------------------------------------------------------------------------\u001b[0m",
      "\u001b[0;31mRuntimeError\u001b[0m                              Traceback (most recent call last)",
      "\u001b[0;32m<ipython-input-4-4fcf419c244a>\u001b[0m in \u001b[0;36m<module>\u001b[0;34m\u001b[0m\n\u001b[0;32m----> 1\u001b[0;31m \u001b[0mxyz_t\u001b[0m\u001b[0;34m.\u001b[0m\u001b[0mto\u001b[0m\u001b[0;34m(\u001b[0m\u001b[0;34m'cuda:0'\u001b[0m\u001b[0;34m)\u001b[0m\u001b[0;34m\u001b[0m\u001b[0;34m\u001b[0m\u001b[0m\n\u001b[0m",
      "\u001b[0;31mRuntimeError\u001b[0m: CUDA error: an illegal memory access was encountered"
     ]
    }
   ],
   "source": [
    "xyz_t.to('cuda:0')"
   ]
  },
  {
   "cell_type": "code",
   "execution_count": 5,
   "metadata": {},
   "outputs": [
    {
     "data": {
      "text/plain": [
       "True"
      ]
     },
     "execution_count": 5,
     "metadata": {},
     "output_type": "execute_result"
    }
   ],
   "source": [
    "torch.cuda.is_available()"
   ]
  },
  {
   "cell_type": "code",
   "execution_count": 19,
   "metadata": {},
   "outputs": [
    {
     "ename": "RuntimeError",
     "evalue": "xyz_tensor must be a CUDAtensor  (ball_query_wrapper_fast at src/ball_query.cpp:17)\nframe #0: c10::Error::Error(c10::SourceLocation, std::string const&) + 0x45 (0x7fcb602f2dc5 in /home/tony/.conda/envs/tensor/lib/python3.7/site-packages/torch/lib/libc10.so)\nframe #1: ball_query_wrapper_fast(int, int, int, float, int, at::Tensor, at::Tensor, at::Tensor) + 0xadd (0x7fcb54074fdd in /home/tony/.conda/envs/tensor/lib/python3.7/site-packages/pointnet2-0.0.0-py3.7-linux-x86_64.egg/pointnet2_cuda.cpython-37m-x86_64-linux-gnu.so)\nframe #2: <unknown function> + 0x1843e (0x7fcb5407443e in /home/tony/.conda/envs/tensor/lib/python3.7/site-packages/pointnet2-0.0.0-py3.7-linux-x86_64.egg/pointnet2_cuda.cpython-37m-x86_64-linux-gnu.so)\nframe #3: <unknown function> + 0x184ee (0x7fcb540744ee in /home/tony/.conda/envs/tensor/lib/python3.7/site-packages/pointnet2-0.0.0-py3.7-linux-x86_64.egg/pointnet2_cuda.cpython-37m-x86_64-linux-gnu.so)\nframe #4: <unknown function> + 0x134f5 (0x7fcb5406f4f5 in /home/tony/.conda/envs/tensor/lib/python3.7/site-packages/pointnet2-0.0.0-py3.7-linux-x86_64.egg/pointnet2_cuda.cpython-37m-x86_64-linux-gnu.so)\nframe #5: _PyMethodDef_RawFastCallKeywords + 0x264 (0x560e9cec36e4 in /home/tony/.conda/envs/tensor/bin/python)\nframe #6: _PyCFunction_FastCallKeywords + 0x21 (0x560e9cec3801 in /home/tony/.conda/envs/tensor/bin/python)\nframe #7: _PyEval_EvalFrameDefault + 0x4e8c (0x560e9cf1f2bc in /home/tony/.conda/envs/tensor/bin/python)\nframe #8: _PyFunction_FastCallDict + 0x10b (0x560e9ce6150b in /home/tony/.conda/envs/tensor/bin/python)\nframe #9: THPFunction_apply(_object*, _object*) + 0x691 (0x7fcb55334891 in /home/tony/.conda/envs/tensor/lib/python3.7/site-packages/torch/lib/libtorch_python.so)\nframe #10: _PyMethodDef_RawFastCallKeywords + 0x1e0 (0x560e9cec3660 in /home/tony/.conda/envs/tensor/bin/python)\nframe #11: _PyCFunction_FastCallKeywords + 0x21 (0x560e9cec3801 in /home/tony/.conda/envs/tensor/bin/python)\nframe #12: _PyEval_EvalFrameDefault + 0x4755 (0x560e9cf1eb85 in /home/tony/.conda/envs/tensor/bin/python)\nframe #13: _PyEval_EvalCodeWithName + 0x2f9 (0x560e9ce604f9 in /home/tony/.conda/envs/tensor/bin/python)\nframe #14: _PyFunction_FastCallDict + 0x1d5 (0x560e9ce615d5 in /home/tony/.conda/envs/tensor/bin/python)\nframe #15: _PyObject_Call_Prepend + 0x63 (0x560e9ce78c43 in /home/tony/.conda/envs/tensor/bin/python)\nframe #16: PyObject_Call + 0x6e (0x560e9ce6d95e in /home/tony/.conda/envs/tensor/bin/python)\nframe #17: _PyEval_EvalFrameDefault + 0x1e20 (0x560e9cf1c250 in /home/tony/.conda/envs/tensor/bin/python)\nframe #18: _PyEval_EvalCodeWithName + 0x2f9 (0x560e9ce604f9 in /home/tony/.conda/envs/tensor/bin/python)\nframe #19: _PyFunction_FastCallDict + 0x1d5 (0x560e9ce615d5 in /home/tony/.conda/envs/tensor/bin/python)\nframe #20: _PyObject_Call_Prepend + 0x63 (0x560e9ce78c43 in /home/tony/.conda/envs/tensor/bin/python)\nframe #21: <unknown function> + 0x17116a (0x560e9cebb16a in /home/tony/.conda/envs/tensor/bin/python)\nframe #22: _PyObject_FastCallKeywords + 0x49b (0x560e9cec3d2b in /home/tony/.conda/envs/tensor/bin/python)\nframe #23: _PyEval_EvalFrameDefault + 0x4bf6 (0x560e9cf1f026 in /home/tony/.conda/envs/tensor/bin/python)\nframe #24: _PyEval_EvalCodeWithName + 0x2f9 (0x560e9ce604f9 in /home/tony/.conda/envs/tensor/bin/python)\nframe #25: PyEval_EvalCodeEx + 0x44 (0x560e9ce613c4 in /home/tony/.conda/envs/tensor/bin/python)\nframe #26: PyEval_EvalCode + 0x1c (0x560e9ce613ec in /home/tony/.conda/envs/tensor/bin/python)\nframe #27: <unknown function> + 0x1e004d (0x560e9cf2a04d in /home/tony/.conda/envs/tensor/bin/python)\nframe #28: _PyMethodDef_RawFastCallKeywords + 0xe9 (0x560e9cec3569 in /home/tony/.conda/envs/tensor/bin/python)\nframe #29: _PyCFunction_FastCallKeywords + 0x21 (0x560e9cec3801 in /home/tony/.conda/envs/tensor/bin/python)\nframe #30: _PyEval_EvalFrameDefault + 0x4755 (0x560e9cf1eb85 in /home/tony/.conda/envs/tensor/bin/python)\nframe #31: _PyGen_Send + 0x2a2 (0x560e9cebc672 in /home/tony/.conda/envs/tensor/bin/python)\nframe #32: _PyEval_EvalFrameDefault + 0x1a6d (0x560e9cf1be9d in /home/tony/.conda/envs/tensor/bin/python)\nframe #33: _PyGen_Send + 0x2a2 (0x560e9cebc672 in /home/tony/.conda/envs/tensor/bin/python)\nframe #34: _PyEval_EvalFrameDefault + 0x1a6d (0x560e9cf1be9d in /home/tony/.conda/envs/tensor/bin/python)\nframe #35: _PyGen_Send + 0x2a2 (0x560e9cebc672 in /home/tony/.conda/envs/tensor/bin/python)\nframe #36: _PyMethodDef_RawFastCallKeywords + 0x8c (0x560e9cec350c in /home/tony/.conda/envs/tensor/bin/python)\nframe #37: _PyMethodDescr_FastCallKeywords + 0x4f (0x560e9cec386f in /home/tony/.conda/envs/tensor/bin/python)\nframe #38: _PyEval_EvalFrameDefault + 0x4c4c (0x560e9cf1f07c in /home/tony/.conda/envs/tensor/bin/python)\nframe #39: _PyFunction_FastCallKeywords + 0xfb (0x560e9cec279b in /home/tony/.conda/envs/tensor/bin/python)\nframe #40: _PyEval_EvalFrameDefault + 0x416 (0x560e9cf1a846 in /home/tony/.conda/envs/tensor/bin/python)\nframe #41: _PyFunction_FastCallKeywords + 0xfb (0x560e9cec279b in /home/tony/.conda/envs/tensor/bin/python)\nframe #42: _PyEval_EvalFrameDefault + 0x6a0 (0x560e9cf1aad0 in /home/tony/.conda/envs/tensor/bin/python)\nframe #43: _PyEval_EvalCodeWithName + 0x2f9 (0x560e9ce604f9 in /home/tony/.conda/envs/tensor/bin/python)\nframe #44: _PyFunction_FastCallDict + 0x400 (0x560e9ce61800 in /home/tony/.conda/envs/tensor/bin/python)\nframe #45: _PyObject_Call_Prepend + 0x63 (0x560e9ce78c43 in /home/tony/.conda/envs/tensor/bin/python)\nframe #46: PyObject_Call + 0x6e (0x560e9ce6d95e in /home/tony/.conda/envs/tensor/bin/python)\nframe #47: _PyEval_EvalFrameDefault + 0x1e20 (0x560e9cf1c250 in /home/tony/.conda/envs/tensor/bin/python)\nframe #48: _PyEval_EvalCodeWithName + 0x5da (0x560e9ce607da in /home/tony/.conda/envs/tensor/bin/python)\nframe #49: _PyFunction_FastCallKeywords + 0x387 (0x560e9cec2a27 in /home/tony/.conda/envs/tensor/bin/python)\nframe #50: _PyEval_EvalFrameDefault + 0x14ce (0x560e9cf1b8fe in /home/tony/.conda/envs/tensor/bin/python)\nframe #51: <unknown function> + 0x171cc6 (0x560e9cebbcc6 in /home/tony/.conda/envs/tensor/bin/python)\nframe #52: <unknown function> + 0x171ecb (0x560e9cebbecb in /home/tony/.conda/envs/tensor/bin/python)\nframe #53: _PyMethodDef_RawFastCallKeywords + 0xe9 (0x560e9cec3569 in /home/tony/.conda/envs/tensor/bin/python)\nframe #54: _PyCFunction_FastCallKeywords + 0x21 (0x560e9cec3801 in /home/tony/.conda/envs/tensor/bin/python)\nframe #55: _PyEval_EvalFrameDefault + 0x4755 (0x560e9cf1eb85 in /home/tony/.conda/envs/tensor/bin/python)\nframe #56: _PyEval_EvalCodeWithName + 0x5da (0x560e9ce607da in /home/tony/.conda/envs/tensor/bin/python)\nframe #57: _PyFunction_FastCallKeywords + 0x387 (0x560e9cec2a27 in /home/tony/.conda/envs/tensor/bin/python)\nframe #58: _PyEval_EvalFrameDefault + 0x6a0 (0x560e9cf1aad0 in /home/tony/.conda/envs/tensor/bin/python)\nframe #59: <unknown function> + 0x171cc6 (0x560e9cebbcc6 in /home/tony/.conda/envs/tensor/bin/python)\nframe #60: <unknown function> + 0x171ecb (0x560e9cebbecb in /home/tony/.conda/envs/tensor/bin/python)\nframe #61: _PyMethodDef_RawFastCallKeywords + 0xe9 (0x560e9cec3569 in /home/tony/.conda/envs/tensor/bin/python)\nframe #62: _PyCFunction_FastCallKeywords + 0x21 (0x560e9cec3801 in /home/tony/.conda/envs/tensor/bin/python)\nframe #63: _PyEval_EvalFrameDefault + 0x4755 (0x560e9cf1eb85 in /home/tony/.conda/envs/tensor/bin/python)\n",
     "output_type": "error",
     "traceback": [
      "\u001b[0;31m---------------------------------------------------------------------------\u001b[0m",
      "\u001b[0;31mRuntimeError\u001b[0m                              Traceback (most recent call last)",
      "\u001b[0;32m<ipython-input-19-86d856e724df>\u001b[0m in \u001b[0;36m<module>\u001b[0;34m\u001b[0m\n\u001b[1;32m      1\u001b[0m \u001b[0mqueryandgroup\u001b[0m \u001b[0;34m=\u001b[0m \u001b[0mpointutils\u001b[0m\u001b[0;34m.\u001b[0m\u001b[0mQueryAndGroup\u001b[0m\u001b[0;34m(\u001b[0m\u001b[0mradius\u001b[0m\u001b[0;34m,\u001b[0m \u001b[0mnsample\u001b[0m\u001b[0;34m)\u001b[0m\u001b[0;34m\u001b[0m\u001b[0;34m\u001b[0m\u001b[0m\n\u001b[0;32m----> 2\u001b[0;31m \u001b[0mnew_points\u001b[0m \u001b[0;34m=\u001b[0m \u001b[0mqueryandgroup\u001b[0m\u001b[0;34m(\u001b[0m\u001b[0mxyz_t\u001b[0m\u001b[0;34m,\u001b[0m \u001b[0mnew_xyz\u001b[0m\u001b[0;34m.\u001b[0m\u001b[0mtranspose\u001b[0m\u001b[0;34m(\u001b[0m\u001b[0;36m2\u001b[0m\u001b[0;34m,\u001b[0m \u001b[0;36m1\u001b[0m\u001b[0;34m)\u001b[0m\u001b[0;34m.\u001b[0m\u001b[0mcontiguous\u001b[0m\u001b[0;34m(\u001b[0m\u001b[0;34m)\u001b[0m\u001b[0;34m,\u001b[0m \u001b[0mpoints\u001b[0m\u001b[0;34m)\u001b[0m\u001b[0;34m\u001b[0m\u001b[0;34m\u001b[0m\u001b[0m\n\u001b[0m",
      "\u001b[0;32m~/.conda/envs/tensor/lib/python3.7/site-packages/torch/nn/modules/module.py\u001b[0m in \u001b[0;36m__call__\u001b[0;34m(self, *input, **kwargs)\u001b[0m\n\u001b[1;32m    491\u001b[0m             \u001b[0mresult\u001b[0m \u001b[0;34m=\u001b[0m \u001b[0mself\u001b[0m\u001b[0;34m.\u001b[0m\u001b[0m_slow_forward\u001b[0m\u001b[0;34m(\u001b[0m\u001b[0;34m*\u001b[0m\u001b[0minput\u001b[0m\u001b[0;34m,\u001b[0m \u001b[0;34m**\u001b[0m\u001b[0mkwargs\u001b[0m\u001b[0;34m)\u001b[0m\u001b[0;34m\u001b[0m\u001b[0;34m\u001b[0m\u001b[0m\n\u001b[1;32m    492\u001b[0m         \u001b[0;32melse\u001b[0m\u001b[0;34m:\u001b[0m\u001b[0;34m\u001b[0m\u001b[0;34m\u001b[0m\u001b[0m\n\u001b[0;32m--> 493\u001b[0;31m             \u001b[0mresult\u001b[0m \u001b[0;34m=\u001b[0m \u001b[0mself\u001b[0m\u001b[0;34m.\u001b[0m\u001b[0mforward\u001b[0m\u001b[0;34m(\u001b[0m\u001b[0;34m*\u001b[0m\u001b[0minput\u001b[0m\u001b[0;34m,\u001b[0m \u001b[0;34m**\u001b[0m\u001b[0mkwargs\u001b[0m\u001b[0;34m)\u001b[0m\u001b[0;34m\u001b[0m\u001b[0;34m\u001b[0m\u001b[0m\n\u001b[0m\u001b[1;32m    494\u001b[0m         \u001b[0;32mfor\u001b[0m \u001b[0mhook\u001b[0m \u001b[0;32min\u001b[0m \u001b[0mself\u001b[0m\u001b[0;34m.\u001b[0m\u001b[0m_forward_hooks\u001b[0m\u001b[0;34m.\u001b[0m\u001b[0mvalues\u001b[0m\u001b[0;34m(\u001b[0m\u001b[0;34m)\u001b[0m\u001b[0;34m:\u001b[0m\u001b[0;34m\u001b[0m\u001b[0;34m\u001b[0m\u001b[0m\n\u001b[1;32m    495\u001b[0m             \u001b[0mhook_result\u001b[0m \u001b[0;34m=\u001b[0m \u001b[0mhook\u001b[0m\u001b[0;34m(\u001b[0m\u001b[0mself\u001b[0m\u001b[0;34m,\u001b[0m \u001b[0minput\u001b[0m\u001b[0;34m,\u001b[0m \u001b[0mresult\u001b[0m\u001b[0;34m)\u001b[0m\u001b[0;34m\u001b[0m\u001b[0;34m\u001b[0m\u001b[0m\n",
      "\u001b[0;32m~/SceneFlow/lib/pointnet2_utils.py\u001b[0m in \u001b[0;36mforward\u001b[0;34m(self, xyz, new_xyz, features)\u001b[0m\n\u001b[1;32m    275\u001b[0m             \u001b[0mnew_features\u001b[0m\u001b[0;34m:\u001b[0m \u001b[0;34m(\u001b[0m\u001b[0mB\u001b[0m\u001b[0;34m,\u001b[0m \u001b[0;36m3\u001b[0m \u001b[0;34m+\u001b[0m \u001b[0mC\u001b[0m\u001b[0;34m,\u001b[0m \u001b[0mnpoint\u001b[0m\u001b[0;34m,\u001b[0m \u001b[0mnsample\u001b[0m\u001b[0;34m)\u001b[0m\u001b[0;34m\u001b[0m\u001b[0;34m\u001b[0m\u001b[0m\n\u001b[1;32m    276\u001b[0m         \"\"\"\n\u001b[0;32m--> 277\u001b[0;31m         \u001b[0midx\u001b[0m \u001b[0;34m=\u001b[0m \u001b[0mball_query\u001b[0m\u001b[0;34m(\u001b[0m\u001b[0mself\u001b[0m\u001b[0;34m.\u001b[0m\u001b[0mradius\u001b[0m\u001b[0;34m,\u001b[0m \u001b[0mself\u001b[0m\u001b[0;34m.\u001b[0m\u001b[0mnsample\u001b[0m\u001b[0;34m,\u001b[0m \u001b[0mxyz\u001b[0m\u001b[0;34m,\u001b[0m \u001b[0mnew_xyz\u001b[0m\u001b[0;34m)\u001b[0m\u001b[0;34m\u001b[0m\u001b[0;34m\u001b[0m\u001b[0m\n\u001b[0m\u001b[1;32m    278\u001b[0m         \u001b[0mxyz_trans\u001b[0m \u001b[0;34m=\u001b[0m \u001b[0mxyz\u001b[0m\u001b[0;34m.\u001b[0m\u001b[0mtranspose\u001b[0m\u001b[0;34m(\u001b[0m\u001b[0;36m1\u001b[0m\u001b[0;34m,\u001b[0m \u001b[0;36m2\u001b[0m\u001b[0;34m)\u001b[0m\u001b[0;34m.\u001b[0m\u001b[0mcontiguous\u001b[0m\u001b[0;34m(\u001b[0m\u001b[0;34m)\u001b[0m\u001b[0;34m\u001b[0m\u001b[0;34m\u001b[0m\u001b[0m\n\u001b[1;32m    279\u001b[0m         \u001b[0mgrouped_xyz\u001b[0m \u001b[0;34m=\u001b[0m \u001b[0mgrouping_operation\u001b[0m\u001b[0;34m(\u001b[0m\u001b[0mxyz_trans\u001b[0m\u001b[0;34m,\u001b[0m \u001b[0midx\u001b[0m\u001b[0;34m)\u001b[0m  \u001b[0;31m# (B, 3, npoint, nsample)\u001b[0m\u001b[0;34m\u001b[0m\u001b[0;34m\u001b[0m\u001b[0m\n",
      "\u001b[0;32m~/SceneFlow/lib/pointnet2_utils.py\u001b[0m in \u001b[0;36mforward\u001b[0;34m(ctx, radius, nsample, xyz, new_xyz)\u001b[0m\n\u001b[1;32m    246\u001b[0m         \u001b[0midx\u001b[0m \u001b[0;34m=\u001b[0m \u001b[0mtorch\u001b[0m\u001b[0;34m.\u001b[0m\u001b[0mcuda\u001b[0m\u001b[0;34m.\u001b[0m\u001b[0mIntTensor\u001b[0m\u001b[0;34m(\u001b[0m\u001b[0mB\u001b[0m\u001b[0;34m,\u001b[0m \u001b[0mnpoint\u001b[0m\u001b[0;34m,\u001b[0m \u001b[0mnsample\u001b[0m\u001b[0;34m)\u001b[0m\u001b[0;34m.\u001b[0m\u001b[0mzero_\u001b[0m\u001b[0;34m(\u001b[0m\u001b[0;34m)\u001b[0m\u001b[0;34m\u001b[0m\u001b[0;34m\u001b[0m\u001b[0m\n\u001b[1;32m    247\u001b[0m \u001b[0;34m\u001b[0m\u001b[0m\n\u001b[0;32m--> 248\u001b[0;31m         \u001b[0mpointnet2\u001b[0m\u001b[0;34m.\u001b[0m\u001b[0mball_query_wrapper\u001b[0m\u001b[0;34m(\u001b[0m\u001b[0mB\u001b[0m\u001b[0;34m,\u001b[0m \u001b[0mN\u001b[0m\u001b[0;34m,\u001b[0m \u001b[0mnpoint\u001b[0m\u001b[0;34m,\u001b[0m \u001b[0mradius\u001b[0m\u001b[0;34m,\u001b[0m \u001b[0mnsample\u001b[0m\u001b[0;34m,\u001b[0m \u001b[0mnew_xyz\u001b[0m\u001b[0;34m,\u001b[0m \u001b[0mxyz\u001b[0m\u001b[0;34m,\u001b[0m \u001b[0midx\u001b[0m\u001b[0;34m)\u001b[0m\u001b[0;34m\u001b[0m\u001b[0;34m\u001b[0m\u001b[0m\n\u001b[0m\u001b[1;32m    249\u001b[0m         \u001b[0;32mreturn\u001b[0m \u001b[0midx\u001b[0m\u001b[0;34m\u001b[0m\u001b[0;34m\u001b[0m\u001b[0m\n\u001b[1;32m    250\u001b[0m \u001b[0;34m\u001b[0m\u001b[0m\n",
      "\u001b[0;31mRuntimeError\u001b[0m: xyz_tensor must be a CUDAtensor  (ball_query_wrapper_fast at src/ball_query.cpp:17)\nframe #0: c10::Error::Error(c10::SourceLocation, std::string const&) + 0x45 (0x7fcb602f2dc5 in /home/tony/.conda/envs/tensor/lib/python3.7/site-packages/torch/lib/libc10.so)\nframe #1: ball_query_wrapper_fast(int, int, int, float, int, at::Tensor, at::Tensor, at::Tensor) + 0xadd (0x7fcb54074fdd in /home/tony/.conda/envs/tensor/lib/python3.7/site-packages/pointnet2-0.0.0-py3.7-linux-x86_64.egg/pointnet2_cuda.cpython-37m-x86_64-linux-gnu.so)\nframe #2: <unknown function> + 0x1843e (0x7fcb5407443e in /home/tony/.conda/envs/tensor/lib/python3.7/site-packages/pointnet2-0.0.0-py3.7-linux-x86_64.egg/pointnet2_cuda.cpython-37m-x86_64-linux-gnu.so)\nframe #3: <unknown function> + 0x184ee (0x7fcb540744ee in /home/tony/.conda/envs/tensor/lib/python3.7/site-packages/pointnet2-0.0.0-py3.7-linux-x86_64.egg/pointnet2_cuda.cpython-37m-x86_64-linux-gnu.so)\nframe #4: <unknown function> + 0x134f5 (0x7fcb5406f4f5 in /home/tony/.conda/envs/tensor/lib/python3.7/site-packages/pointnet2-0.0.0-py3.7-linux-x86_64.egg/pointnet2_cuda.cpython-37m-x86_64-linux-gnu.so)\nframe #5: _PyMethodDef_RawFastCallKeywords + 0x264 (0x560e9cec36e4 in /home/tony/.conda/envs/tensor/bin/python)\nframe #6: _PyCFunction_FastCallKeywords + 0x21 (0x560e9cec3801 in /home/tony/.conda/envs/tensor/bin/python)\nframe #7: _PyEval_EvalFrameDefault + 0x4e8c (0x560e9cf1f2bc in /home/tony/.conda/envs/tensor/bin/python)\nframe #8: _PyFunction_FastCallDict + 0x10b (0x560e9ce6150b in /home/tony/.conda/envs/tensor/bin/python)\nframe #9: THPFunction_apply(_object*, _object*) + 0x691 (0x7fcb55334891 in /home/tony/.conda/envs/tensor/lib/python3.7/site-packages/torch/lib/libtorch_python.so)\nframe #10: _PyMethodDef_RawFastCallKeywords + 0x1e0 (0x560e9cec3660 in /home/tony/.conda/envs/tensor/bin/python)\nframe #11: _PyCFunction_FastCallKeywords + 0x21 (0x560e9cec3801 in /home/tony/.conda/envs/tensor/bin/python)\nframe #12: _PyEval_EvalFrameDefault + 0x4755 (0x560e9cf1eb85 in /home/tony/.conda/envs/tensor/bin/python)\nframe #13: _PyEval_EvalCodeWithName + 0x2f9 (0x560e9ce604f9 in /home/tony/.conda/envs/tensor/bin/python)\nframe #14: _PyFunction_FastCallDict + 0x1d5 (0x560e9ce615d5 in /home/tony/.conda/envs/tensor/bin/python)\nframe #15: _PyObject_Call_Prepend + 0x63 (0x560e9ce78c43 in /home/tony/.conda/envs/tensor/bin/python)\nframe #16: PyObject_Call + 0x6e (0x560e9ce6d95e in /home/tony/.conda/envs/tensor/bin/python)\nframe #17: _PyEval_EvalFrameDefault + 0x1e20 (0x560e9cf1c250 in /home/tony/.conda/envs/tensor/bin/python)\nframe #18: _PyEval_EvalCodeWithName + 0x2f9 (0x560e9ce604f9 in /home/tony/.conda/envs/tensor/bin/python)\nframe #19: _PyFunction_FastCallDict + 0x1d5 (0x560e9ce615d5 in /home/tony/.conda/envs/tensor/bin/python)\nframe #20: _PyObject_Call_Prepend + 0x63 (0x560e9ce78c43 in /home/tony/.conda/envs/tensor/bin/python)\nframe #21: <unknown function> + 0x17116a (0x560e9cebb16a in /home/tony/.conda/envs/tensor/bin/python)\nframe #22: _PyObject_FastCallKeywords + 0x49b (0x560e9cec3d2b in /home/tony/.conda/envs/tensor/bin/python)\nframe #23: _PyEval_EvalFrameDefault + 0x4bf6 (0x560e9cf1f026 in /home/tony/.conda/envs/tensor/bin/python)\nframe #24: _PyEval_EvalCodeWithName + 0x2f9 (0x560e9ce604f9 in /home/tony/.conda/envs/tensor/bin/python)\nframe #25: PyEval_EvalCodeEx + 0x44 (0x560e9ce613c4 in /home/tony/.conda/envs/tensor/bin/python)\nframe #26: PyEval_EvalCode + 0x1c (0x560e9ce613ec in /home/tony/.conda/envs/tensor/bin/python)\nframe #27: <unknown function> + 0x1e004d (0x560e9cf2a04d in /home/tony/.conda/envs/tensor/bin/python)\nframe #28: _PyMethodDef_RawFastCallKeywords + 0xe9 (0x560e9cec3569 in /home/tony/.conda/envs/tensor/bin/python)\nframe #29: _PyCFunction_FastCallKeywords + 0x21 (0x560e9cec3801 in /home/tony/.conda/envs/tensor/bin/python)\nframe #30: _PyEval_EvalFrameDefault + 0x4755 (0x560e9cf1eb85 in /home/tony/.conda/envs/tensor/bin/python)\nframe #31: _PyGen_Send + 0x2a2 (0x560e9cebc672 in /home/tony/.conda/envs/tensor/bin/python)\nframe #32: _PyEval_EvalFrameDefault + 0x1a6d (0x560e9cf1be9d in /home/tony/.conda/envs/tensor/bin/python)\nframe #33: _PyGen_Send + 0x2a2 (0x560e9cebc672 in /home/tony/.conda/envs/tensor/bin/python)\nframe #34: _PyEval_EvalFrameDefault + 0x1a6d (0x560e9cf1be9d in /home/tony/.conda/envs/tensor/bin/python)\nframe #35: _PyGen_Send + 0x2a2 (0x560e9cebc672 in /home/tony/.conda/envs/tensor/bin/python)\nframe #36: _PyMethodDef_RawFastCallKeywords + 0x8c (0x560e9cec350c in /home/tony/.conda/envs/tensor/bin/python)\nframe #37: _PyMethodDescr_FastCallKeywords + 0x4f (0x560e9cec386f in /home/tony/.conda/envs/tensor/bin/python)\nframe #38: _PyEval_EvalFrameDefault + 0x4c4c (0x560e9cf1f07c in /home/tony/.conda/envs/tensor/bin/python)\nframe #39: _PyFunction_FastCallKeywords + 0xfb (0x560e9cec279b in /home/tony/.conda/envs/tensor/bin/python)\nframe #40: _PyEval_EvalFrameDefault + 0x416 (0x560e9cf1a846 in /home/tony/.conda/envs/tensor/bin/python)\nframe #41: _PyFunction_FastCallKeywords + 0xfb (0x560e9cec279b in /home/tony/.conda/envs/tensor/bin/python)\nframe #42: _PyEval_EvalFrameDefault + 0x6a0 (0x560e9cf1aad0 in /home/tony/.conda/envs/tensor/bin/python)\nframe #43: _PyEval_EvalCodeWithName + 0x2f9 (0x560e9ce604f9 in /home/tony/.conda/envs/tensor/bin/python)\nframe #44: _PyFunction_FastCallDict + 0x400 (0x560e9ce61800 in /home/tony/.conda/envs/tensor/bin/python)\nframe #45: _PyObject_Call_Prepend + 0x63 (0x560e9ce78c43 in /home/tony/.conda/envs/tensor/bin/python)\nframe #46: PyObject_Call + 0x6e (0x560e9ce6d95e in /home/tony/.conda/envs/tensor/bin/python)\nframe #47: _PyEval_EvalFrameDefault + 0x1e20 (0x560e9cf1c250 in /home/tony/.conda/envs/tensor/bin/python)\nframe #48: _PyEval_EvalCodeWithName + 0x5da (0x560e9ce607da in /home/tony/.conda/envs/tensor/bin/python)\nframe #49: _PyFunction_FastCallKeywords + 0x387 (0x560e9cec2a27 in /home/tony/.conda/envs/tensor/bin/python)\nframe #50: _PyEval_EvalFrameDefault + 0x14ce (0x560e9cf1b8fe in /home/tony/.conda/envs/tensor/bin/python)\nframe #51: <unknown function> + 0x171cc6 (0x560e9cebbcc6 in /home/tony/.conda/envs/tensor/bin/python)\nframe #52: <unknown function> + 0x171ecb (0x560e9cebbecb in /home/tony/.conda/envs/tensor/bin/python)\nframe #53: _PyMethodDef_RawFastCallKeywords + 0xe9 (0x560e9cec3569 in /home/tony/.conda/envs/tensor/bin/python)\nframe #54: _PyCFunction_FastCallKeywords + 0x21 (0x560e9cec3801 in /home/tony/.conda/envs/tensor/bin/python)\nframe #55: _PyEval_EvalFrameDefault + 0x4755 (0x560e9cf1eb85 in /home/tony/.conda/envs/tensor/bin/python)\nframe #56: _PyEval_EvalCodeWithName + 0x5da (0x560e9ce607da in /home/tony/.conda/envs/tensor/bin/python)\nframe #57: _PyFunction_FastCallKeywords + 0x387 (0x560e9cec2a27 in /home/tony/.conda/envs/tensor/bin/python)\nframe #58: _PyEval_EvalFrameDefault + 0x6a0 (0x560e9cf1aad0 in /home/tony/.conda/envs/tensor/bin/python)\nframe #59: <unknown function> + 0x171cc6 (0x560e9cebbcc6 in /home/tony/.conda/envs/tensor/bin/python)\nframe #60: <unknown function> + 0x171ecb (0x560e9cebbecb in /home/tony/.conda/envs/tensor/bin/python)\nframe #61: _PyMethodDef_RawFastCallKeywords + 0xe9 (0x560e9cec3569 in /home/tony/.conda/envs/tensor/bin/python)\nframe #62: _PyCFunction_FastCallKeywords + 0x21 (0x560e9cec3801 in /home/tony/.conda/envs/tensor/bin/python)\nframe #63: _PyEval_EvalFrameDefault + 0x4755 (0x560e9cf1eb85 in /home/tony/.conda/envs/tensor/bin/python)\n"
     ]
    }
   ],
   "source": [
    "queryandgroup = pointutils.QueryAndGroup(radius, nsample)\n",
    "new_points = queryandgroup(xyz_t, new_xyz.transpose(2, 1).contiguous(), points)"
   ]
  },
  {
   "cell_type": "code",
   "execution_count": null,
   "metadata": {},
   "outputs": [],
   "source": []
  }
 ],
 "metadata": {
  "kernelspec": {
   "display_name": "tensor",
   "language": "python",
   "name": "tensor"
  },
  "language_info": {
   "codemirror_mode": {
    "name": "ipython",
    "version": 3
   },
   "file_extension": ".py",
   "mimetype": "text/x-python",
   "name": "python",
   "nbconvert_exporter": "python",
   "pygments_lexer": "ipython3",
   "version": "3.7.3"
  }
 },
 "nbformat": 4,
 "nbformat_minor": 2
}
